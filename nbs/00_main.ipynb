{
 "cells": [
  {
   "cell_type": "markdown",
   "metadata": {},
   "source": [
    "# Main "
   ]
  },
  {
   "cell_type": "markdown",
   "metadata": {},
   "source": [
    "The purpose of this application is to show how Literate Programming's workflow can be used to move effectively develop a software application by leveraging LLMs and more precisely GitHub's Copilot.\n",
    "\n",
    "For this demonstration, we will develop a command line application in Python that will implement a simple calculator with the following operations:\n",
    "\n",
    "- Addition\n",
    "- Subtraction\n",
    "- Multiplication\n",
    "- Division\n",
    "- Exponentiation\n",
    "- Square root\n",
    "- Logarithm\n",
    "- Factorial\n",
    "- Modulo\n",
    "- Absolute value\n",
    "- Sine\n",
    "- Cosine\n",
    "- Tangent\n",
    "- Arcsine\n",
    "- Arccosine\n",
    "- Arctangent\n",
    "- Hyperbolic sine\n",
    "- Hyperbolic cosine\n",
    "- Hyperbolic tangent\n",
    "- Inverse hyperbolic sine\n",
    "- Inverse hyperbolic cosine\n",
    "- Inverse hyperbolic tangent\n",
    "- Greatest common divisor"
   ]
  },
  {
   "cell_type": "markdown",
   "metadata": {},
   "source": [
    "The first step to create the command line application is to import the core libraries it requires, namely Typer and NumPy."
   ]
  },
  {
   "cell_type": "code",
   "execution_count": null,
   "metadata": {},
   "outputs": [],
   "source": [
    "#| default_exp main"
   ]
  },
  {
   "cell_type": "code",
   "execution_count": null,
   "metadata": {},
   "outputs": [],
   "source": [
    "#| export\n",
    "\n",
    "import numpy as np\n",
    "import typer"
   ]
  },
  {
   "cell_type": "markdown",
   "metadata": {},
   "source": [
    "The next step is to create the Typer application and the main function that will be called when the application is run."
   ]
  },
  {
   "cell_type": "code",
   "execution_count": null,
   "metadata": {},
   "outputs": [],
   "source": [
    "#| export\n",
    "\n",
    "app = typer.Typer()"
   ]
  },
  {
   "cell_type": "markdown",
   "metadata": {},
   "source": [
    "The first command we want to implement a command line command that gives the current version of the calculator tool. This command will be called version and will be implemented as follows:"
   ]
  },
  {
   "cell_type": "code",
   "execution_count": null,
   "metadata": {},
   "outputs": [],
   "source": [
    "#| export\n",
    "\n",
    "@app.command()\n",
    "def version():\n",
    "    \"\"\"Show version\"\"\"\n",
    "    typer.echo(\"0.1.0\")"
   ]
  },
  {
   "cell_type": "markdown",
   "metadata": {},
   "source": [
    "The next step is to implement the first mathematical operation, namely addition. This operation will be implemented as follows:"
   ]
  },
  {
   "cell_type": "code",
   "execution_count": null,
   "metadata": {},
   "outputs": [],
   "source": [
    "#| export\n",
    "\n",
    "@app.command()\n",
    "def add(a: int = 1, b: int = 2):\n",
    "    \"\"\"Add two numbers\"\"\"\n",
    "    typer.echo(a + b)"
   ]
  },
  {
   "cell_type": "markdown",
   "metadata": {},
   "source": [
    "The next step is to implement the second mathematical operation, namely subtraction. This operation will be implemented as follows:"
   ]
  },
  {
   "cell_type": "code",
   "execution_count": null,
   "metadata": {},
   "outputs": [],
   "source": [
    "#| export\n",
    "\n",
    "@app.command()\n",
    "def subtract(a: int = 1, b: int = 2):\n",
    "    \"\"\"Subtract two numbers\"\"\"\n",
    "    typer.echo(a - b)"
   ]
  },
  {
   "cell_type": "markdown",
   "metadata": {},
   "source": [
    "The next step is to implement the third mathematical operation, namely multiplication. This operation will be implemented as follows:"
   ]
  },
  {
   "cell_type": "code",
   "execution_count": null,
   "metadata": {},
   "outputs": [],
   "source": [
    "#| export\n",
    "\n",
    "@app.command()\n",
    "def multiply(a: int = 1, b: int = 2):\n",
    "    \"\"\"Multiply two numbers\"\"\"\n",
    "    typer.echo(a * b)"
   ]
  },
  {
   "cell_type": "markdown",
   "metadata": {},
   "source": [
    "The next step is to implement the fourth mathematical operation, namely division. This operation will be implemented as follows:"
   ]
  },
  {
   "cell_type": "code",
   "execution_count": null,
   "metadata": {},
   "outputs": [],
   "source": [
    "#| export\n",
    "\n",
    "@app.command()\n",
    "def divide(a: int = 1, b: int = 2):\n",
    "    \"\"\"Divide two numbers\"\"\"\n",
    "    typer.echo(a / b)"
   ]
  },
  {
   "cell_type": "markdown",
   "metadata": {},
   "source": [
    "The next step is to implement the fifth mathematical operation, namely exponentiation. This operation will be implemented as follows:"
   ]
  },
  {
   "cell_type": "code",
   "execution_count": null,
   "metadata": {},
   "outputs": [],
   "source": [
    "#| export\n",
    "\n",
    "@app.command()\n",
    "def power(a: int = 1, b: int = 2):\n",
    "    \"\"\"Raise a number to the power of another\"\"\"\n",
    "    typer.echo(a ** b)"
   ]
  },
  {
   "cell_type": "markdown",
   "metadata": {},
   "source": [
    "The next step is to implement the sixth mathematical operation, namely square root. This operation will be implemented as follows:"
   ]
  },
  {
   "cell_type": "code",
   "execution_count": null,
   "metadata": {},
   "outputs": [],
   "source": [
    "#| export\n",
    "\n",
    "@app.command()\n",
    "def root(a: int = 1, b: int = 2):\n",
    "    \"\"\"Root a number by another\"\"\"\n",
    "    typer.echo(a ** (1 / b))"
   ]
  },
  {
   "cell_type": "markdown",
   "metadata": {},
   "source": [
    "The next step is to implement the seventh mathematical operation, namely logarithm. This operation will be implemented as follows:"
   ]
  },
  {
   "cell_type": "code",
   "execution_count": null,
   "metadata": {},
   "outputs": [],
   "source": [
    "#| export\n",
    "\n",
    "@app.command()\n",
    "def log(a: int = 1, b: int = 2):\n",
    "    \"\"\"Log a number by another\"\"\"\n",
    "    typer.echo(np.log(a) / np.log(b))"
   ]
  },
  {
   "cell_type": "markdown",
   "metadata": {},
   "source": [
    "The next step is to implement the eighth mathematical operation, namely factorial. This operation will be implemented as follows:"
   ]
  },
  {
   "cell_type": "code",
   "execution_count": null,
   "metadata": {},
   "outputs": [],
   "source": [
    "#| export\n",
    "\n",
    "@app.command()\n",
    "def factorial(a: int = 1):\n",
    "    \"\"\"Factorial of a number\"\"\"\n",
    "    typer.echo(np.math.factorial(a))"
   ]
  },
  {
   "cell_type": "markdown",
   "metadata": {},
   "source": [
    "The next step is to implement the ninth mathematical operation, namely modulo. This operation will be implemented as follows:"
   ]
  },
  {
   "cell_type": "code",
   "execution_count": null,
   "metadata": {},
   "outputs": [],
   "source": [
    "#| export\n",
    "\n",
    "@app.command()\n",
    "def mod(a: int = 1, b: int = 2):\n",
    "    \"\"\"Modulus of a number by another\"\"\"\n",
    "    typer.echo(a % b)"
   ]
  },
  {
   "cell_type": "markdown",
   "metadata": {},
   "source": [
    "The next step is to implement the tenth mathematical operation, namely absolute value. This operation will be implemented as follows:"
   ]
  },
  {
   "cell_type": "code",
   "execution_count": null,
   "metadata": {},
   "outputs": [],
   "source": [
    "#| export\n",
    "\n",
    "@app.command()\n",
    "def abs(a: int = 1):\n",
    "    \"\"\"Absolute value of a number\"\"\"\n",
    "    typer.echo(np.abs(a))"
   ]
  },
  {
   "cell_type": "markdown",
   "metadata": {},
   "source": [
    "The next step is to implement the eleventh mathematical operation, namely sine. This operation will be implemented as follows:"
   ]
  },
  {
   "cell_type": "code",
   "execution_count": null,
   "metadata": {},
   "outputs": [],
   "source": [
    "#| export\n",
    "\n",
    "@app.command()\n",
    "def sin(a: int = 1):\n",
    "    \"\"\"Sin of a number\"\"\"\n",
    "    typer.echo(np.sin(a))"
   ]
  }
 ],
 "metadata": {
  "kernelspec": {
   "display_name": "python3",
   "language": "python",
   "name": "python3"
  }
 },
 "nbformat": 4,
 "nbformat_minor": 4
}
