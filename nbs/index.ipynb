{
 "cells": [
  {
   "cell_type": "markdown",
   "metadata": {},
   "source": [
    "# literate-copilot\n",
    "\n",
    "> Project example showing the synergy between Literate Programming and LLMs (Copilot)"
   ]
  },
  {
   "cell_type": "markdown",
   "metadata": {},
   "source": [
    "This is an experimentation project to see how GitHub Copilot could benefit from Literate Programming principles and workflows.\n",
    "\n",
    "This project supports the [writing of this blog post](https://fgiasson.com/blog/index.php/2023/09/22/literate-programming-at-the-dawn-of-llms/)."
   ]
  }
 ],
 "metadata": {
  "kernelspec": {
   "display_name": "python3",
   "language": "python",
   "name": "python3"
  }
 },
 "nbformat": 4,
 "nbformat_minor": 4
}
